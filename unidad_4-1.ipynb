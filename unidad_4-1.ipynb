{
 "cells": [
  {
   "cell_type": "markdown",
   "metadata": {},
   "source": [
    "# Mantenimiento del SO - 1 de 2"
   ]
  },
  {
   "cell_type": "markdown",
   "metadata": {},
   "source": [
    "En esta actividad exploraremos las herramientas que tenemos en Linux para realizar un mantenimiento general de nuestro sistema operativo."
   ]
  },
  {
   "cell_type": "markdown",
   "metadata": {},
   "source": [
    "# Análisis de virus (Clamav)"
   ]
  },
  {
   "cell_type": "markdown",
   "metadata": {},
   "source": [
    "Aunque te hayan dicho lo contrario y aunque no es tan comunmente atacado como otros sistemas, sí es posible que Linux contenga malware y para ello existe un antivirus llamado ClamAV, uno de los más completos en sistemas basados en Linux, incluso utilizado en muchas infraestructuras de red para analizar archivos peligrosos. Es importante también saber que existen muchos virus para Windows u otros sistemas de los cuales Linux puede ser portador y transmisor aunque no sea afectado.\n",
    "\n",
    "Para instalar Clamav:\n",
    "\n",
    "* Debian,Ubuntu y derivados\n",
    "\n",
    "`sudo apt-get install clamav`\n",
    "\n",
    "* Arch Linux y derivados\n",
    "\n",
    "`sudo pacman-S clamav`\n",
    "\n",
    "* Fedora y derivados\n",
    "\n",
    "`sudo dnf install clamav`\n",
    "\n",
    "* OpenSUSE\n",
    "\n",
    "`sudo zypper install clamav`\n",
    "\n",
    "Una vez instalado, si quieres actualizar la base de firmas de virus puedes ejecutar:\n",
    "\n",
    "`sudo freshclam`\n",
    "\n",
    "Para analizar una carpeta en particular:\n",
    "\n",
    "`clamscan /ruta/a/examinar/`\n",
    "\n",
    "Para analizarla recursivamente:\n",
    "\n",
    "`clamscan -r /ruta/a/examinar/`\n",
    "\n",
    "Para borrar el malware encontrado:\n",
    "\n",
    "`clamscan --remove /ruta/a/examinar/`"
   ]
  },
  {
   "cell_type": "markdown",
   "metadata": {},
   "source": [
    "A continuación realizaremos un análisis recursivo de todo nuestro directorio `home`, es importante que observen la opción `--database` la cual permite utilizar un archivo de firmas de virus particular, esto se hace para evitarles la ejecución del comando `freshclam` el cual actualizando las firmas de virus puede tardar hasta 30 minutos. (Esta ejecución puede tardar unos segundos, te recomendamos que la lances una sola vez y esperes)."
   ]
  },
  {
   "cell_type": "code",
   "execution_count": 5,
   "metadata": {},
   "outputs": [],
   "source": [
    "clamscan --database=$HOME/Resources/Linux_Terminal_Master/U4/firmasdevirus.cvd -r --remove ."
   ]
  },
  {
   "cell_type": "markdown",
   "metadata": {},
   "source": [
    "Seguramente no se encontraron virus y todo aparece `OK` ya que este contenedor es nuevo."
   ]
  },
  {
   "cell_type": "markdown",
   "metadata": {},
   "source": [
    "Ahora en la siguiente ejecución se utilizará el comando wget para descargar un archivo de virus de ejemplo de internet."
   ]
  },
  {
   "cell_type": "code",
   "execution_count": 5,
   "metadata": {},
   "outputs": [],
   "source": [
    "wget https://secure.eicar.org/eicar.com.txt"
   ]
  },
  {
   "cell_type": "markdown",
   "metadata": {},
   "source": [
    "Verifiquemos que el archivo `eicar.com.txt` quedó correctamente descargado con `ls`"
   ]
  },
  {
   "cell_type": "code",
   "execution_count": 5,
   "metadata": {},
   "outputs": [],
   "source": [
    "ls "
   ]
  },
  {
   "cell_type": "markdown",
   "metadata": {},
   "source": [
    "Realizaremos de nuevo el análisis de virus."
   ]
  },
  {
   "cell_type": "code",
   "execution_count": 5,
   "metadata": {},
   "outputs": [],
   "source": [
    "clamscan --database=$HOME/Resources/Linux_Terminal_Master/U4/firmasdevirus.cvd -r --remove ."
   ]
  },
  {
   "cell_type": "markdown",
   "metadata": {},
   "source": [
    "En esta ejecución podrán ver que aparece `FOUND` y posteriormente `removed` en el archivo eicar.com.txt, lo que significa que el virus fue encontrado y eliminado correctamente."
   ]
  },
  {
   "cell_type": "markdown",
   "metadata": {},
   "source": [
    "# df"
   ]
  },
  {
   "cell_type": "markdown",
   "metadata": {},
   "source": [
    "El comando `df` (disk file system) nos permite analizar el uso de disco en el sistema de archivos\n",
    "\n",
    "Uso:\n",
    "\n",
    "`df -h` Permite ver la salida en `human readable`, es decir kb, mb, gb, etc."
   ]
  },
  {
   "cell_type": "markdown",
   "metadata": {},
   "source": [
    "La siguiente salida permitirá ver las particiones, sus puntos de montaje, además de su espacio usado, total y disponible."
   ]
  },
  {
   "cell_type": "code",
   "execution_count": null,
   "metadata": {},
   "outputs": [],
   "source": [
    "df -h"
   ]
  },
  {
   "cell_type": "markdown",
   "metadata": {},
   "source": [
    "# du"
   ]
  },
  {
   "cell_type": "markdown",
   "metadata": {},
   "source": [
    "El comando `du` (disk usage) nos permite analizar el uso de disco de un archivo o directorio,\n",
    "\n",
    "Uso:\n",
    "\n",
    "`du -h` Permite ver la salida en `human readable`, es decir kb, mb, gb, etc.\n",
    "`du -s` Permite ver la salida resumida `summarize`.\n",
    "`du -c` Produce un gran total\n",
    "`du -a` Incluye todos los archivos y directorios"
   ]
  },
  {
   "cell_type": "markdown",
   "metadata": {},
   "source": [
    "La siguiente salida permitirá ver el tamaño del directorio `/etc`"
   ]
  },
  {
   "cell_type": "code",
   "execution_count": null,
   "metadata": {},
   "outputs": [],
   "source": [
    "du -a /etc"
   ]
  },
  {
   "cell_type": "markdown",
   "metadata": {},
   "source": [
    "Cómo pueden ver es una salida larga y desordenada, para resolver el orden, el comando `sort` nos permite organizar la salida de un comando, si le aplicamos el flag `-n` (number) y `-r` (reverse), podremos ver los archivos y directorios más pesados primero y los más livianos después, veamosló en acción."
   ]
  },
  {
   "cell_type": "code",
   "execution_count": 5,
   "metadata": {},
   "outputs": [],
   "source": [
    "du -a /etc | sort -n -r"
   ]
  },
  {
   "cell_type": "markdown",
   "metadata": {},
   "source": [
    "Ahora la salida está ordenada, sin embargo sigue siendo larga, para ello el comando `head` nos permite obtener la \"cabeza\" de la salida de un archivo, en este caso si solo queremos las 10 primeras líneas de una salida ejecutamos lo siguiente `head -n 10`, así obtendremos los archivos y/o directorios más pesados."
   ]
  },
  {
   "cell_type": "code",
   "execution_count": 5,
   "metadata": {},
   "outputs": [],
   "source": [
    "du -a /etc | sort -n -r | head -n 10"
   ]
  },
  {
   "cell_type": "markdown",
   "metadata": {},
   "source": [
    "La siguiente línea ejecutará un script que generará unos directorios aleatorios en la carpeta `/tmp/U4` y en uno de ellos creará un archivo muy pesado."
   ]
  },
  {
   "cell_type": "code",
   "execution_count": 5,
   "metadata": {},
   "outputs": [],
   "source": [
    "sh $HOME/Scripts/Linux_Terminal_Master/U4/CF_genera_archivo_pesado.sh"
   ]
  },
  {
   "cell_type": "markdown",
   "metadata": {},
   "source": [
    "La siguiente ejecución está vacía para que crees un comando que identifique ese archivo pesado creado a partir del script."
   ]
  },
  {
   "cell_type": "code",
   "execution_count": null,
   "metadata": {},
   "outputs": [],
   "source": []
  },
  {
   "cell_type": "markdown",
   "metadata": {},
   "source": [
    "¿Identificaste bien el archivo? Si lo hiciste te invitamos a que lo valides, reemplaza el texto INTRODUCE_EL_NOMBRE_DE_ARCHIVO en la siguiente línea, por el nombre del archivo que lograste identificar."
   ]
  },
  {
   "cell_type": "code",
   "execution_count": null,
   "metadata": {},
   "outputs": [],
   "source": [
    "export VALIDA_PESADO=INTRODUCE_EL_NOMBRE_DE_ARCHIVO"
   ]
  },
  {
   "cell_type": "markdown",
   "metadata": {},
   "source": [
    "Si el nombre que introdujiste está bien, la siguiente ejecución te dará un flag."
   ]
  },
  {
   "cell_type": "code",
   "execution_count": null,
   "metadata": {},
   "outputs": [],
   "source": [
    "sh $HOME/Scripts/Linux_Terminal_Master/U4/CF_valida_archivo_pesado.sh"
   ]
  },
  {
   "cell_type": "markdown",
   "metadata": {},
   "source": [
    "La siguiente ejecución está vacía para que crees un comando que te permita con du, identificar el tamaño en GB de dicho archivo."
   ]
  },
  {
   "cell_type": "code",
   "execution_count": null,
   "metadata": {},
   "outputs": [],
   "source": []
  },
  {
   "cell_type": "code",
   "execution_count": 5,
   "metadata": {},
   "outputs": [],
   "source": [
    "last"
   ]
  }
 ],
 "metadata": {
  "kernelspec": {
   "display_name": "Bash",
   "language": "bash",
   "name": "bash"
  },
  "language_info": {
   "codemirror_mode": "shell",
   "file_extension": ".sh",
   "mimetype": "text/x-sh",
   "name": "bash"
  }
 },
 "nbformat": 4,
 "nbformat_minor": 2
}
