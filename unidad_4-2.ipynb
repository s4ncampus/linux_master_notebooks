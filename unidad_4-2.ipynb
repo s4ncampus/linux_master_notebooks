{
 "cells": [
  {
   "cell_type": "markdown",
   "metadata": {},
   "source": [
    "# Mantenimiento del SO - 2 de 2"
   ]
  },
  {
   "cell_type": "markdown",
   "metadata": {},
   "source": [
    "En esta actividad exploraremos las herramientas que tenemos en Linux para realizar un mantenimiento general de nuestro sistema operativo."
   ]
  },
  {
   "cell_type": "markdown",
   "metadata": {},
   "source": [
    "# ps"
   ]
  },
  {
   "cell_type": "markdown",
   "metadata": {},
   "source": [
    "El comando `ps` (process state) permite ver toda la información de los procesos del sistema. La información puede incluir el ID del proceso o PID (el cual es un identificador único del proceso), el usuario y el grupo al que pertenece, el estado de ejecución y si se inició desde un terminal.\n",
    "\n",
    "Uso:\n",
    "\n",
    "`ps -e` Permite ver todos los procesos utilizando la sintaxis estandar\n",
    "`ps -a` Permite ver todos los procesos utilizando la sintaxis de BSD\n",
    "`ps -u` Permite ver los usuarios que están utilizando cada proceso\n",
    "`ps -x` Imprime dichos procesos en formato de registro"
   ]
  },
  {
   "cell_type": "markdown",
   "metadata": {},
   "source": [
    "La siguiente ejecución permitirá listar los procesos del sistema en pantalla por usuario y en formato de registro"
   ]
  },
  {
   "cell_type": "code",
   "execution_count": null,
   "metadata": {},
   "outputs": [],
   "source": [
    "ps aux"
   ]
  },
  {
   "cell_type": "markdown",
   "metadata": {},
   "source": [
    "Recuerda que puedes utilizar el comando `grep` para filtrar por nombres de proceso o PID."
   ]
  },
  {
   "cell_type": "markdown",
   "metadata": {},
   "source": [
    "# top"
   ]
  },
  {
   "cell_type": "markdown",
   "metadata": {},
   "source": [
    "Similar al comando ps, sin embargo imprime de una forma más cómoda en pantalla dicha información además de ser en tiempo real. (Por limitantes de Jupyter y Binder no es posible mostrarles su funcionamiento)\n",
    "\n",
    "Uso:\n",
    "\n",
    "`top` ejecuta el programa.\n",
    "`q` permite salir de su ejecución."
   ]
  },
  {
   "cell_type": "markdown",
   "metadata": {},
   "source": [
    "# kill y killall"
   ]
  },
  {
   "cell_type": "markdown",
   "metadata": {},
   "source": [
    "El comando `kill` permite matar un proceso utilizando el PID del proceso, el comando `killall` por su parte, permite matar un proceso por su nombre. Con kill es posible determinar el tipo de \"muerte\" o `SIGNAL` que se le quiere dar al programa:\n",
    "\n",
    "SIGNAL\n",
    "\n",
    "Nombre de señal: SIGHUP\n",
    "Valor: 1\n",
    "Efecto: Cuelga el proceso\n",
    "\n",
    "Nombre de señal: SIGINT\n",
    "Valor: 2\n",
    "Efecto: Interrupción del teclado\n",
    "\n",
    "Nombre de señal: SIGKILL\n",
    "Valor: 9\n",
    "Efecto: Matado definitivo\n",
    "\n",
    "Nombre de señal: SIGTERM\n",
    "Valor: 15 \n",
    "Efecto: Envío de señal de terminado\n",
    "\n",
    "Nombre de señal: SIGSTOP\n",
    "Valor: 17, 19, 23\n",
    "Efecto: Detiene el proceso\n",
    "\n",
    "Uso de kill:\n",
    "\n",
    "`kill -SIGNAL PID` \n",
    "\n",
    "El signal más comúnmente utilizado es el 9 debido a que envía la orden de detención inmediata sin condiciones al programa."
   ]
  },
  {
   "cell_type": "markdown",
   "metadata": {},
   "source": [
    "La siguiente ejecución lanzará un programa llamado `stress` el cual consumirá un alto número de memoria RAM en el sistema:"
   ]
  },
  {
   "cell_type": "code",
   "execution_count": null,
   "metadata": {},
   "outputs": [],
   "source": [
    "sh $HOME/Scripts/Linux_Terminal_Master/U4/CF_consume_50%_de_RAM.sh"
   ]
  },
  {
   "cell_type": "markdown",
   "metadata": {},
   "source": [
    "En el siguiente espacio en blanco deberás validar el PID de dicho proceso con `ps aux` y matarlo ejecutando los comandos `kill` y `killall` (repite las ejecuciones anteriores las veces que sea necesarias para poder validar cuando matas el proceso y para que valides los PID). "
   ]
  },
  {
   "cell_type": "code",
   "execution_count": null,
   "metadata": {},
   "outputs": [],
   "source": []
  },
  {
   "cell_type": "markdown",
   "metadata": {},
   "source": [
    "# netstat"
   ]
  },
  {
   "cell_type": "markdown",
   "metadata": {},
   "source": [
    "El comando `netstat` permite conocer información relacionada con nuestra red, las conexiones activas tanto de salida como de entrada, el protocolo que utilizan, las tablas de ruteo, estadísticas de interfaces, estado de conexión y demás. \n",
    "\n",
    "Su uso es:\n",
    "`netstat -a` Muestra todas las conexiones\n",
    "`netstat -t` Muestra todas las conexiones TCP\n",
    "`netstat -u` Muestra todas las conexiones UDP\n",
    "`netstat -n` Muestra todas las direcciones numéricas\n",
    "`netstat -p` Muestra los PID del programa que está usando el puerto"
   ]
  },
  {
   "cell_type": "markdown",
   "metadata": {},
   "source": [
    "La siguiente ejecución de netstat permitirá ver los programas que usan protocolo TCP y demás información relacionada."
   ]
  },
  {
   "cell_type": "code",
   "execution_count": 5,
   "metadata": {},
   "outputs": [],
   "source": [
    "netstat -tanp"
   ]
  },
  {
   "cell_type": "markdown",
   "metadata": {},
   "source": [
    "Recuerda que puedes aplicar filtros de `grep` como por ejemplo `grep LISTEN` para identificar solo los puertos que están escuchando."
   ]
  },
  {
   "cell_type": "code",
   "execution_count": 5,
   "metadata": {},
   "outputs": [],
   "source": [
    "netstat -tanp | grep LISTEN"
   ]
  },
  {
   "cell_type": "markdown",
   "metadata": {},
   "source": [
    "La siguiente ejecución lanzará un servidor http en un puerto aleatorio deberás identificar el puerto."
   ]
  },
  {
   "cell_type": "code",
   "execution_count": null,
   "metadata": {},
   "outputs": [],
   "source": [
    "sh $HOME/Scripts/Linux_Terminal_Master/U4/CF_ejecuta_http_aleatorio.sh"
   ]
  },
  {
   "cell_type": "markdown",
   "metadata": {},
   "source": [
    "La siguiente ejecución está vacía para que crees un comando que te permita identificar el puerto que se acaba de abrir."
   ]
  },
  {
   "cell_type": "code",
   "execution_count": null,
   "metadata": {},
   "outputs": [],
   "source": []
  },
  {
   "cell_type": "markdown",
   "metadata": {},
   "source": [
    "¿Identificaste bien el puerto? Si lo hiciste te invitamos a que lo valides, reemplaza el texto INTRODUCE_EL_NUMERO_DE_PUERTO en la siguiente línea, por el número de puerto que lograste identificar."
   ]
  },
  {
   "cell_type": "code",
   "execution_count": null,
   "metadata": {},
   "outputs": [],
   "source": [
    "export VALIDA_HTTP_ALEATORIO=INTRODUCE_EL_NUMERO_DE_PUERTO"
   ]
  },
  {
   "cell_type": "markdown",
   "metadata": {},
   "source": [
    "Si el número que introdujiste está bien, la siguiente ejecución te dará un flag."
   ]
  },
  {
   "cell_type": "code",
   "execution_count": null,
   "metadata": {},
   "outputs": [],
   "source": [
    "sh $HOME/Scripts/Linux_Terminal_Master/U4/CF_valida_http_aleatorio.sh"
   ]
  },
  {
   "cell_type": "markdown",
   "metadata": {},
   "source": [
    "Una vez lo identifiques recuerda que puedes utilizar el comando `kill` para detener su ejecución."
   ]
  },
  {
   "cell_type": "markdown",
   "metadata": {},
   "source": [
    "# Otros comandos útiles (free, lsof y last)"
   ]
  },
  {
   "cell_type": "markdown",
   "metadata": {},
   "source": [
    "El comando `free` nos permitirá entender mejor el uso de RAM"
   ]
  },
  {
   "cell_type": "markdown",
   "metadata": {},
   "source": [
    "Ejemplo:"
   ]
  },
  {
   "cell_type": "code",
   "execution_count": 5,
   "metadata": {},
   "outputs": [],
   "source": [
    "free"
   ]
  },
  {
   "cell_type": "markdown",
   "metadata": {},
   "source": [
    "El comando `lsof` lista los ficheros abiertos en el sistema, por ejemplo, qué ficheros mantiene abiertos un determinado proceso (PID) o un usuario, además de brindar información adicional, como el puerto utilizado por dichos servicios/ficheros, sockets en uso, etc."
   ]
  },
  {
   "cell_type": "markdown",
   "metadata": {},
   "source": [
    "Ejemplo:"
   ]
  },
  {
   "cell_type": "code",
   "execution_count": 5,
   "metadata": {},
   "outputs": [],
   "source": [
    "lsof"
   ]
  },
  {
   "cell_type": "markdown",
   "metadata": {},
   "source": [
    "El comando `last` lista los accesos y salidas al sistema, reinicios de la máquina, accesos a un archivo y demás."
   ]
  },
  {
   "cell_type": "markdown",
   "metadata": {},
   "source": [
    "Ejemplo:"
   ]
  },
  {
   "cell_type": "code",
   "execution_count": 5,
   "metadata": {},
   "outputs": [],
   "source": [
    "last"
   ]
  }
 ],
 "metadata": {
  "kernelspec": {
   "display_name": "Bash",
   "language": "bash",
   "name": "bash"
  },
  "language_info": {
   "codemirror_mode": "shell",
   "file_extension": ".sh",
   "mimetype": "text/x-sh",
   "name": "bash"
  }
 },
 "nbformat": 4,
 "nbformat_minor": 2
}
